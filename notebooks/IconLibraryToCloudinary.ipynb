{
 "cells": [
  {
   "cell_type": "markdown",
   "metadata": {},
   "source": [
    "# Cloudinary upload\n",
    "\n",
    "According to: https://cloudinary.com/documentation/upload_images#uploading_with_a_direct_call_to_the_rest_api\n",
    "\n",
    "'https://api.cloudinary.com/v1_1/<cloud name>/<resource_type>/upload'\n"
   ]
  },
  {
   "cell_type": "code",
   "execution_count": null,
   "metadata": {},
   "outputs": [],
   "source": [
    "import os\n",
    "import re\n",
    "\n",
    "box_library_root = os.environ['HOME'] + '/Box/Q-bis_Ende_2019/3/31/MediaAssets/Official_Icon_Library/PNG'\n",
    "assert os.path.isdir(box_library_root), \"Is directory\""
   ]
  },
  {
   "cell_type": "code",
   "execution_count": null,
   "metadata": {},
   "outputs": [],
   "source": [
    "from pathlib import Path\n",
    "result = list(Path(box_library_root).rglob(\"*.[pP][nN][gG]\"))\n",
    "result[:3]"
   ]
  },
  {
   "cell_type": "code",
   "execution_count": null,
   "metadata": {},
   "outputs": [],
   "source": [
    "filename_id_extractor = re.compile(\".*_([0-9]{3,4})_(.+)\\.png\", re.IGNORECASE)\n",
    "\n",
    "def icon_id(file):\n",
    "    base = os.path.basename(file)\n",
    "    match = filename_id_extractor.match(base)\n",
    "    if match:\n",
    "        return match.group(1)\n",
    "    else:\n",
    "        return hash(base)\n",
    "\n",
    "icon_id(result[0])"
   ]
  },
  {
   "cell_type": "code",
   "execution_count": null,
   "metadata": {},
   "outputs": [],
   "source": [
    "import hashlib\n",
    "\n",
    "def signature(params, secret):\n",
    "    ''' calculates the sha signatur according to \n",
    "        https://cloudinary.com/documentation/upload_images#generating_authentication_signatures\n",
    "    '''\n",
    "    sorter = list()\n",
    "    for entry in params:\n",
    "        sorter.append(entry + '=' + params[entry] + '&')\n",
    "    sorter.sort()\n",
    "    serialized = ''.join(sorter)\n",
    "    serialized =serialized[:-1] + secret\n",
    "    print(serialized)\n",
    "    m = hashlib.sha256()\n",
    "    m.update(serialized.encode('utf-8'))\n",
    "    return m.hexdigest()\n",
    "\n",
    "# eager=w_400,h_300,c_pad|w_260,h_200,c_crop&public_id=sample_image\n",
    "sample = { 'timestamp': '1315060510', 'eager': 'w_400,h_300,c_pad|w_260,h_200,c_crop', 'public_id': 'sample_image' }\n",
    "sig = signature(sample, 'abcd') \n",
    "sig"
   ]
  },
  {
   "cell_type": "code",
   "execution_count": null,
   "metadata": {},
   "outputs": [],
   "source": [
    "import time\n",
    "time_stamp = int(time.time())"
   ]
  },
  {
   "cell_type": "code",
   "execution_count": null,
   "metadata": {},
   "outputs": [],
   "source": [
    "import requests\n",
    "import base64\n",
    "\n",
    "account='fyayc-test' \n",
    "uri='https://api.cloudinary.com/v1_1/' + account + '/image/upload'\n",
    "api_key='778862129561347'\n",
    "api_secret='-xJwqK-LkCPVdKZrDosLpesBM5Q'\n",
    "\n",
    "def upload(file):\n",
    "    file_name_ext = os.path.basename(file)\n",
    "    file_name = os.path.splitext(file_name_ext)[0]\n",
    "    \n",
    "    file_data = None\n",
    "    with open(file, 'rb') as binary_file:\n",
    "        binary_file_data = binary_file.read()\n",
    "        #base64_encoded_data = base64.b64encode(binary_file_data)\n",
    "        #base64string = base64_encoded_data.decode('utf-8')\n",
    "    \n",
    "    params = {}\n",
    "    params['timestamp'] = str(time_stamp)\n",
    "    \n",
    "    # optinal parameters\n",
    "    params['public_id'] = file_name\n",
    "    params['folder'] = 'icons'\n",
    "    \n",
    "    sig = signature(params, api_secret)\n",
    "\n",
    "    # append non signed parameters\n",
    "    params['api_key'] = api_key\n",
    "    params['signature'] = sig\n",
    "\n",
    "    payload = params\n",
    " \n",
    "    files_data = {'file': (file_name, binary_file_data)}\n",
    "    resp = requests.post(uri + '?timestamp=' + str(time_stamp) + '&api_key=' + api_key + '&signature=' + sig + '&', \n",
    "                        #headers = headers, \n",
    "                        data = payload,\n",
    "                        files = files_data)\n",
    "\n",
    "    return resp"
   ]
  },
  {
   "cell_type": "code",
   "execution_count": null,
   "metadata": {},
   "outputs": [],
   "source": [
    "response = upload(result[0])\n",
    "vars(response)"
   ]
  },
  {
   "cell_type": "code",
   "execution_count": null,
   "metadata": {},
   "outputs": [],
   "source": [
    "summary = []\n",
    "\n",
    "for entry in result:\n",
    "    print('processing ' + str(entry))\n",
    "    response = upload(entry)\n",
    "    response.raise_for_status()\n",
    "    summary.append( { \n",
    "        'status': response.status_code, \n",
    "        'source': str(entry), \n",
    "        'result':response.json(), \n",
    "        'id': icon_id(entry)\n",
    "    })\n"
   ]
  },
  {
   "cell_type": "code",
   "execution_count": null,
   "metadata": {},
   "outputs": [],
   "source": [
    "summary[:-3]"
   ]
  },
  {
   "cell_type": "code",
   "execution_count": null,
   "metadata": {},
   "outputs": [],
   "source": [
    "import json\n",
    "\n",
    "with open('upload-summary-' + str(time_stamp) + '.json', 'w') as outfile:\n",
    "    json.dump(summary, outfile)"
   ]
  },
  {
   "cell_type": "code",
   "execution_count": null,
   "metadata": {},
   "outputs": [],
   "source": []
  }
 ],
 "metadata": {
  "kernelspec": {
   "display_name": "Python 3",
   "language": "python",
   "name": "python3"
  },
  "language_info": {
   "codemirror_mode": {
    "name": "ipython",
    "version": 3
   },
   "file_extension": ".py",
   "mimetype": "text/x-python",
   "name": "python",
   "nbconvert_exporter": "python",
   "pygments_lexer": "ipython3",
   "version": "3.8.5"
  }
 },
 "nbformat": 4,
 "nbformat_minor": 4
}
