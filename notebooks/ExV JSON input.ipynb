{
 "cells": [
  {
   "cell_type": "markdown",
   "metadata": {},
   "source": [
    "# Creates a json from python structures\n",
    "\n",
    "Layers are devided in columns.\n",
    "The columns on the left wing of the L are identified starting with 1 on the lower tip.\n",
    "The columns on the right wing of the L are identified starting with A on the lower tip. \n",
    "\n",
    "<img src=\"ExV Terminology.png\"/>\n"
   ]
  },
  {
   "cell_type": "code",
   "execution_count": null,
   "metadata": {},
   "outputs": [],
   "source": [
    "customer = {\n",
    "    'label': 'Customer Layer',\n",
    "    'grid': 8, # 8x8 tiles: tiles with the same left wing index e.g: 'A1', 'A2', are called a row\n",
    "    \n",
    "     'tiles' : {\n",
    "         'A1': { 'color': 'green', 'icon': '0074' },\n",
    "         'A2': { 'color': 'green', 'icon': '0730' },\n",
    "\n",
    "         'B1': { 'color': 'white', 'icon': '0277' },\n",
    "         'B2': { 'color': 'white', 'icon': '0744' },\n",
    "     }\n",
    "}"
   ]
  },
  {
   "cell_type": "code",
   "execution_count": null,
   "metadata": {},
   "outputs": [],
   "source": [
    "experience = {\n",
    "    'label': 'Experience Layer',\n",
    "    'grid' : 4, # 4x4 tiles\n",
    "    'tiles': {\n",
    "        'B1': { 'color': 'green', 'icon': '0074' },\n",
    "        'B3': { 'icon': '0084' },\n",
    "        'C1': { 'icon': '0057' },\n",
    "        'C2': { 'label': 'YouTube', 'icon': '0095' } \n",
    "    },\n",
    "    'slices': [\n",
    "        { 'label': 'Print', 'span': [ 'C1', 'C2' ] }\n",
    "    ]\n",
    "}"
   ]
  },
  {
   "cell_type": "code",
   "execution_count": null,
   "metadata": {},
   "outputs": [],
   "source": [
    "organisation = {\n",
    "    'label': 'Organisation Layer',\n",
    "\n",
    "}"
   ]
  },
  {
   "cell_type": "code",
   "execution_count": null,
   "metadata": {},
   "outputs": [],
   "source": [
    "performance = {\n",
    "    'label': 'Performane Layer',\n",
    "}"
   ]
  },
  {
   "cell_type": "code",
   "execution_count": null,
   "metadata": {},
   "outputs": [],
   "source": [
    "asset = {\n",
    "    'label': 'Asset Layer',\n",
    "}"
   ]
  },
  {
   "cell_type": "code",
   "execution_count": null,
   "metadata": {},
   "outputs": [],
   "source": [
    "data = {\n",
    "    'label': 'Data Layer',\n",
    "}"
   ]
  },
  {
   "cell_type": "code",
   "execution_count": null,
   "metadata": {},
   "outputs": [],
   "source": [
    "import json"
   ]
  },
  {
   "cell_type": "markdown",
   "metadata": {},
   "source": [
    "# Load icon library mapping"
   ]
  },
  {
   "cell_type": "code",
   "execution_count": null,
   "metadata": {},
   "outputs": [],
   "source": [
    "summary_json = None\n",
    "with open('upload-summary-1610137199.json', 'r') as f:\n",
    "    summary_json = json.load(f)\n",
    "\n",
    "icon_library = dict()\n",
    "for icon in summary_json:\n",
    "    print(icon['id'] + ' ' + icon['result']['url'])\n",
    "    icon_library[icon['id']] = icon['result']['url']\n",
    "    "
   ]
  },
  {
   "cell_type": "code",
   "execution_count": null,
   "metadata": {},
   "outputs": [],
   "source": [
    "layernames = [ 'Customer', 'Experience', 'Organisation', 'Performance', 'Asset', 'Data' ]\n",
    "exv = {\n",
    "    'layers': [ customer, experience, organisation, performance, asset, data ]\n",
    "}\n",
    "\n",
    "exv['icons'] = icon_library\n",
    "\n",
    "json.dumps(exv)"
   ]
  },
  {
   "cell_type": "code",
   "execution_count": null,
   "metadata": {},
   "outputs": [],
   "source": [
    "width = 8\n",
    "left_wing_row_index = []\n",
    "\n",
    "for left in range(width):\n",
    "    left_wing_row_index.append(chr(ord('A') + left))\n",
    "\n",
    "list.reverse(left_wing_row_index)\n",
    "left_wing_row_index"
   ]
  },
  {
   "cell_type": "markdown",
   "metadata": {},
   "source": [
    "# Preview"
   ]
  },
  {
   "cell_type": "code",
   "execution_count": null,
   "metadata": {},
   "outputs": [],
   "source": [
    "def plane_indexer(left, right):\n",
    "    \"\"\" Return an index in the form '[LeftWingIndex]:[RightWingIndex]' from numeric grid indices\"\"\"\n",
    "    return ''.join([left_wing_row_index[left], str(right + 1)])\n",
    "\n",
    "def html_for_cell(layer, left, right, exv):\n",
    "    content = []\n",
    "    tile_id = plane_indexer(left, right)\n",
    "    index = str(layernames[layer][0]) + tile_id\n",
    "    plane = exv['layers'][layer]\n",
    "    tiles = plane.get('tiles')\n",
    "    if tiles:\n",
    "        tile = tiles.get(tile_id)\n",
    "        if tile:\n",
    "            color = tile.get('color')\n",
    "            if color: \n",
    "                content.append(' bgcolor=\"')\n",
    "                content.append(color)\n",
    "                content.append('\">')\n",
    "            else:\n",
    "                content.append('>')\n",
    "            content.append(index)\n",
    "            label = tile.get('label')\n",
    "            if label: content.append('<br/>' + label + '<br/>')\n",
    "            icon = tile.get('icon')\n",
    "            if icon: content.append('<img src=\"{}\" width=\"25\"/>'.format(icon_library[icon]))\n",
    "        else:\n",
    "            content.append('>')\n",
    "            content.append(index)\n",
    "    else:\n",
    "        content.append('>')\n",
    "        content.append(index)\n",
    "    return ''.join(content)"
   ]
  },
  {
   "cell_type": "code",
   "execution_count": null,
   "metadata": {},
   "outputs": [],
   "source": [
    "def render_layer(layer):\n",
    "    content = ['<h1>', layernames[layer], '<h1/>', '<table>']\n",
    "    for left in range(width):\n",
    "        content.append('<tr><td')\n",
    "        for right in range(width):\n",
    "            # process only visible cells\n",
    "            if left >= (width / 2) or right < (width / 2):\n",
    "                content.append(html_for_cell(layer, left, right, exv))\n",
    "            else:\n",
    "                content.append(' bgcolor=\"black\">[invisible]')\n",
    "            content.append('</td><td')\n",
    "        content.append('</td></tr>')\n",
    "\n",
    "    content.append('</table>')\n",
    "    return content\n",
    "\n",
    "\n",
    "render_layer(0)"
   ]
  },
  {
   "cell_type": "code",
   "execution_count": null,
   "metadata": {},
   "outputs": [],
   "source": [
    "from IPython.display import display\n",
    "from IPython.core.display import HTML"
   ]
  },
  {
   "cell_type": "code",
   "execution_count": null,
   "metadata": {},
   "outputs": [],
   "source": [
    "display(HTML(''.join(render_layer(0))))"
   ]
  },
  {
   "cell_type": "code",
   "execution_count": null,
   "metadata": {},
   "outputs": [],
   "source": [
    "display(HTML(''.join(render_layer(1))))"
   ]
  },
  {
   "cell_type": "markdown",
   "metadata": {},
   "source": [
    "# Produce flat indexed JSON"
   ]
  },
  {
   "cell_type": "code",
   "execution_count": null,
   "metadata": {},
   "outputs": [],
   "source": [
    "json.dumps(exv)"
   ]
  },
  {
   "cell_type": "code",
   "execution_count": null,
   "metadata": {},
   "outputs": [],
   "source": [
    "with open('exv-content.json', 'w') as f:\n",
    "    json.dump(exv, f)"
   ]
  },
  {
   "cell_type": "code",
   "execution_count": null,
   "metadata": {},
   "outputs": [],
   "source": []
  }
 ],
 "metadata": {
  "kernelspec": {
   "display_name": "Python 3",
   "language": "python",
   "name": "python3"
  },
  "language_info": {
   "codemirror_mode": {
    "name": "ipython",
    "version": 3
   },
   "file_extension": ".py",
   "mimetype": "text/x-python",
   "name": "python",
   "nbconvert_exporter": "python",
   "pygments_lexer": "ipython3",
   "version": "3.8.5"
  }
 },
 "nbformat": 4,
 "nbformat_minor": 4
}
